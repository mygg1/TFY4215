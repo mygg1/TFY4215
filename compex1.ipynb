{
 "cells": [
  {
   "cell_type": "markdown",
   "metadata": {},
   "source": [
    "**Navn på gruppens medlemmer:**\n",
    "\n",
    "*Levér en ferdig kjørt notebook som inkluderer alle resultater, helst eksportert som HTML-dokument. Det er tilstrekkelig at ett gruppemedlem leverer på vegne av alle i gruppa.*\n",
    "\n",
    "# Om de numeriske øvingene i kvantemekanikk\n",
    "\n",
    "Målet med de numeriske øvingene i kvantemekanikk er\n",
    "* å bruke numeriske metoder og visualiseringer for å forstå kvantemekanikk bedre.\n",
    "* å utvikle en generell \"verktøykasse\" du kan bruke også når du arbeider med andre øvinger og lærer nytt stoff i faget.\n",
    "* å se ligningene i kvantemekanikken og løsninger av disse fra et generelt perspektiv.\n",
    "* å utvikle ferdigheter innen programmering og numerikk.\n",
    "\n",
    "Vi legger opp til bruk av Python sammen med bibliotekene `numpy`, `scipy` og `matplotlib` for numerikk, vitenskapelige beregninger og plotting.\n",
    "*Bruk disse for alt de er verdt!*\n",
    "God bruk av disse bibliotekene vil la deg uttrykke deg mer konsist enn om du kun bruker standard Python-funksjonalitet.\n",
    "Vi forventer at du selv finner fram til relevant funksjonalitet og dokumentasjon i bibliotekene.\n",
    "De er alle godt dokumentert på Internett.\n",
    "\n",
    "Om du selv ønsker å benytte andre programmeringsspråk eller biblioteker, står du fritt til det.\n",
    "Noen oppgaver inkluderer en liten mengde hjelpekode i Python som du i så fall må omskrive på egen hånd, men de er ellers utformet uten tilknytning til et spesifikt språk.\n",
    "Vi forventer likevel at du leverer et alternativt, sammenhengende dokument med tekst, kode og resultater som svarer på oppgavene.\n",
    "\n",
    "I Jupyter Notebook og Jupyter Lab er det mulig å bruke ulike *backends* for plotting med `matplotlib`.\n",
    "Dette er grovt forklart forskjellige underliggende \"motorer\" som bestemmer utseende og funksjonaliteten til figurene som produseres.\n",
    "Avhengig av hvilket av programmene du bruker, vil du erfare at en backend fungerer bedre enn andre.\n",
    "I Jupyter Notebook fungerer `notebook`-backenden best og uten behov for installasjon av ekstra programvare, men i Jupyter Lab må tillegget [jupyter-matplotlib](https://github.com/matplotlib/jupyter-matplotlib) installeres for å få den optimale `widget`-backenden til å fungere.\n",
    "Begge programmene støtter også `inline`-backenden uten behov for tilleggsprogramvare, men denne produserer mindre fleksible figurer og bør kun brukes som reserveløsning.\n",
    "Prøv deg selv fram med backendene foreslått under for å finne den som fungerer best for deg."
   ]
  },
  {
   "cell_type": "code",
   "execution_count": null,
   "metadata": {},
   "outputs": [],
   "source": [
    "# uncomment ONE line to choose matplotlib backend\n",
    "# if using Jupyter Notebook, use interactive \"notebook\" backend for best results\n",
    "# if using Jupyter Lab, use interactive \"widget\" backend for best results\n",
    "# if both fail, use static \"inline\" backend\n",
    "%matplotlib notebook \n",
    "#%matplotlib widget \n",
    "#%matplotlib inline \n",
    "\n",
    "import numpy as np\n",
    "import matplotlib.pyplot as plt"
   ]
  },
  {
   "cell_type": "markdown",
   "metadata": {},
   "source": [
    "## Kort om fysiske enheter i numeriske beregninger\n",
    "\n",
    "I numeriske beregninger må vi ta hensyn til den begrensede presisjonen og størrelsen til flyttallene som datamaskinen bruker for å representere relle tall.\n",
    "I kvantemekanikken møter vi spesielt ofte på Plancks reduserte konstant $\\hbar \\approx 6.63 \\cdot 10^{-34} \\text{ Js}$ og gjerne kvadratet $\\hbar^2$. Det er i utgangspunktet ingenting i veien for å benytte SI-enheter for alle størrelser som opptrer i disse øvingene. Et alternativ er å benytte [atomære enheter](https://en.wikipedia.org/wiki/Hartree_atomic_units).\n",
    "Dette enhetssystemet er skreddersydd for beregninger på atomært nivå.\n",
    "Her er blant annet $\\hbar$, elektronmassen $m_e$ og elementærladningen $e$ *definert* til å ha tallverdi $1$.\n",
    "For eksempel uttrykkes energier som multipler av én hartree, $E_h = \\hbar^2 / m_e a_0^2 \\approx 4.36 \\cdot 10^{-18} \\text{ J}$. En annen løsning er å benytte enheter som $\\text{nm}$ og $\\text{eV}$ for lengder og energier. En hartree tilsvarer ca. 27.2 eV, dvs. det dobbelte av grunntilstandsenergien i hydrogenatomet.\n",
    "\n",
    "**Velg selv hensiktsmessige enheter til bruk i beregningene, men vær oppmerksom på den begrensede presisjonen til flyttall!**"
   ]
  },
  {
   "cell_type": "code",
   "execution_count": null,
   "metadata": {},
   "outputs": [],
   "source": []
  },
  {
   "cell_type": "markdown",
   "metadata": {},
   "source": [
    "# Numerisk løsning av den tidsuavhengige Schrödingerligningen\n",
    "\n",
    "Å løse den tidsuavhengige Schrödingerligningen\n",
    "$$ \\hat{H} \\psi = -\\frac{\\hbar^2}{2 m} \\psi'' + V \\psi = E \\psi, $$\n",
    "dvs. å bestemme energiegenverdier $E$ og tilhørende energiegenfunksjoner $\\psi(x)$ for et gitt potensial $V(x)$, er et sentralt problem i kvantemekanikken. Dette er ofte ingen enkel oppgave.\n",
    "Selv for potensialer som gir ligningen analytiske løsninger, kreves det ofte betydelig innsats og bruk av spesielle teknikker for å komme fram til disse.\n",
    "Vi skal her se på en elegant og generell teknikk for å løse ligningen numerisk for et vilkårlig potensial (i én dimensjon).\n",
    "\n",
    "Numeriske løsningsmetoder innebærer alltid en viss avgrensning og diskretisering for å gjøre problemet endelig og håndterlig for en datamaskin. Vi avgrenser her delen av rommet vi ser på til å ligge mellom to endepunkter $x_0$ og $x_{N+1}$ og deler opp intervallet mellom dem i punktene $x_0, x_1, \\ldots, x_N, x_{N+1}$ med lik avstand $\\Delta x$ mellom hvert punkt.\n",
    "Utenfor dette området definerer vi potensialet til $V(x \\leq x_0) = V(x \\geq x_{N+1}) = \\infty$, slik at $\\psi(x \\leq x_0) = \\psi(x \\geq x_{N+1}) = 0$ og det kun er bølgefunksjonens verdier på rutenettet $\\boldsymbol{x} = [x_1, \\ldots, x_N]^T$ som er ukjente og av interesse.\n",
    "Til hvert punkt tilordner vi verdiene $\\psi_i = \\psi(x_i)$ og $V_i = V(x_i)$ til energiegenfunksjonene og potensialet, og vi refererer til verdiene av funksjonene i alle punktene ved hjelp av vektorene $\\boldsymbol{V} = [V_1, \\ldots, V_N]^T$ og $\\boldsymbol{\\psi} = [\\psi_1, \\ldots, \\psi_N]^T$.\n",
    "\n",
    "En intuitiv og enkel tilnærming av den deriverte til en funksjon er den sentrale differansen\n",
    "$$ \\psi'(x) = \\frac{\\psi(x + \\Delta x / 2) - \\psi(x - \\Delta x / 2)}{\\Delta x} $$\n",
    "Om vi bruker denne tilnærmingen to ganger, kan vi også tilnærme den andrederiverte som\n",
    "$$ \\psi''(x) = \\frac{\\psi'(x + \\Delta x / 2) - \\psi'(x - \\Delta x / 2)}{\\Delta x} = \\frac{\\psi(x + \\Delta x) - 2 \\psi(x) + \\psi(x - \\Delta x)}{\\Delta x^2}$$\n",
    "\n",
    "Ved å sette denne tilnærmingen inn i den tidsuavhengige Schrödingerligningen, kan vi tilnærme den numerisk som\n",
    "$$-\\frac{\\hbar^2}{2 m} \\frac{\\psi_{i+1} - 2 \\psi_i + \\psi_{i-1}}{{\\Delta x}^2} + V_i \\psi_i = E \\psi_i \\qquad \\text{for}\\,\\, i = 1, 2, \\ldots, N$$\n",
    "\n",
    "Vi kan uttrykke denne ligningen på en elegant måte ved å innføre $N \\times N$-Hamiltonmatrisen $H$ med elementer\n",
    "$$ H_{i j} = \\begin{cases} \n",
    "    \\hbar^2 / (m \\Delta x^2) + V_i & \\text{for} \\,\\, i = j         & \\text{(på diagonalen)}        \\\\ \n",
    "    -\\hbar^2 / (2 m \\Delta x^2)    & \\text{for} \\,\\, i = j \\pm 1   & \\text{(på semidiagonalene)}   \\\\\n",
    "    0                              & \\text{ellers}                                                 \\\\\n",
    "\\end{cases} $$\n",
    "og benytte oss av vektoren $\\boldsymbol{\\psi} = [\\psi_1, \\ldots, \\psi_N]^T$.\n",
    "Den tar da formen\n",
    "$$ H \\boldsymbol{\\psi} = E \\boldsymbol{\\psi} $$\n",
    "Energiene $E$ og energiegenfunksjonene $\\boldsymbol{\\psi}$ er dermed egenverdier og egenvektorer til matrisen $H$!\n",
    "\n",
    "Numerikkbiblioteker har funksjonalitet for å finne egenverdier og egenvektorer til vilkårlige matriser.\n",
    "De har gjerne også spesialiserte funksjoner som gjør dette mer effektivt for matriser med en spesiell form, for eksempel som den *tridiagonale* (samt reelle og symmetriske) formen til matrisen $H$.\n",
    "\n",
    "**Skriv en funksjon som beregner og returnerer alle energiegenverdier $E$ og tilhørende energiegenfunksjoner $\\boldsymbol{\\psi}$ for en partikkel med masse $m$ som befinner seg i et gitt potensial $\\boldsymbol{V}$ på rutenettet $\\boldsymbol{x}$. Normér energiegenfunksjonene i forstanden $\\int |\\psi|^2 \\mathrm{d}x$ = 1.**"
   ]
  },
  {
   "cell_type": "code",
   "execution_count": null,
   "metadata": {},
   "outputs": [],
   "source": []
  },
  {
   "cell_type": "markdown",
   "metadata": {},
   "source": [
    "I resten av øvingen skal vi rett og slett bare bruke denne numeriske løsningsmetoden på en rekke forskjellige potensialer.\n",
    "I noen av eksemplene skal vi også sammenligne de numeriske verdiene med analytiske resultater.\n",
    "For å gjøre denne prosessen så enkel som mulig, foreslår vi at du her skriver én \"ultimat\" plottefunksjon som du kan gjenbruke i alle disse oppgavene.\n",
    "\n",
    "**Skriv en funksjon som framstiller potensialet $\\boldsymbol{V}$, energiegenverdier $E$ og energiegenfunksjoner $\\boldsymbol{\\psi}$ (eller absoluttkvadratene $|\\boldsymbol{\\psi}|^2$) på rutenettet $\\boldsymbol{x}$ grafisk. Funksjonen skal også kunne brukes til å sammenligne to sett med (numeriske og analytiske) energier og energiegenfunksjoner.**\n",
    "\n",
    "**Gjør gjerne dette parallelt med resten av oppgavene, slik at du kan tilpasse framstillingen basert på behovene som oppstår. Se gjerne i forelesningsnotater, bøker og søk rundt på Internett for å få litt inspirasjon til hvordan framstillingen kan gjøres.**"
   ]
  },
  {
   "cell_type": "code",
   "execution_count": null,
   "metadata": {},
   "outputs": [],
   "source": []
  },
  {
   "cell_type": "markdown",
   "metadata": {},
   "source": [
    "## Partikkel i boks\n",
    "\n",
    "Et av de første kvantemekaniske problemene vi støter på er partikkel i boks.\n",
    "Her er potensialet, de normerte energiegenfunksjonene og energiegenverdiene\n",
    "$$\n",
    "V(x) = \\begin{cases}0 & \\text{for}\\,\\, 0 \\leq x \\leq L \\\\ \\infty & \\text{ellers} \\end{cases},\n",
    "\\quad \\psi(x) = \\sqrt{\\frac{2}{L}} \\sin{\\frac{n \\pi x}{L}}, \n",
    "\\quad E = \\frac{n^2 \\pi^2 \\hbar^2}{2 m L^2},\n",
    "\\quad \\quad n = 1, 2, \\ldots,\n",
    "$$\n",
    "\n",
    "**Sammenlign numeriske og analytiske verdier for noen energier og energiegenfunksjoner for et elektron i en boks grafisk.**\n",
    "\n",
    "**Hvordan er spredningen i energinivåene?**"
   ]
  },
  {
   "cell_type": "code",
   "execution_count": null,
   "metadata": {},
   "outputs": [],
   "source": []
  },
  {
   "cell_type": "markdown",
   "metadata": {},
   "source": [
    "## Harmonisk oscillator\n",
    "\n",
    "Et annet standard kvantemekanisk problem er den harmoniske oscillatoren med\n",
    "$$\n",
    "V(x) = \\frac{1}{2}m \\omega^2 x^2,\n",
    "\\quad \\psi(x) = \\frac{1}{\\sqrt{2^n n!}} \\cdot \\left(\\frac{m \\omega}{\\pi \\hbar}\\right)^{1/4} \\cdot \\exp{\\left(-\\frac{m \\omega x^2}{2 \\hbar}\\right)} \\cdot H_n\\left(\\sqrt{\\frac{m \\omega}{\\hbar}}x\\right),\n",
    "\\quad E = \\left(n+\\frac{1}{2}\\right)\\hbar \\omega,\n",
    "\\quad \\quad n = 0, 1, 2, \\ldots\n",
    "$$\n",
    "Funksjonene $H_n(y)$ (med dimensjonsløs $y$) kalles [(fysikerens) Hermitepolynomer](https://en.wikipedia.org/wiki/Hermite_polynomials).\n",
    "De er tilgjengelige i numerikkbiblioteker, men kan også beregnes fra rekursjonsrelasjonen\n",
    "$$ H_n(x) = 2 x H_{n-1}(x) - 2 (n-1) H_{n-2}(x), \\quad H_0(x) = 1, \\quad H_1(x) = 2 x$$\n",
    "\n",
    "Den harmoniske oscillatoren er spesielt interessant i topartikkelsystemer, der et problem med for eksempel to atomer med masse $m_1$ og $m_2$ i et toatomig molekyl reduseres til et ekvivalent enpartikkelproblem med *redusert masse* $m = m_1 m_2 / (m_1 + m_2)$.\n",
    "Sammen med konstanten $\\omega$ utgjør denne et mål på en fjærkonstant som beskriver vibrasjonsbevegelsen mellom de to atomene.\n",
    "\n",
    "**Sammenlign numeriske og analytiske verdier for noen energier og energiegenfunksjoner i en harmonisk oscillator grafisk.**\n",
    "\n",
    "**Hvordan er spredningen i energinivåene?**"
   ]
  },
  {
   "cell_type": "code",
   "execution_count": null,
   "metadata": {},
   "outputs": [],
   "source": []
  },
  {
   "cell_type": "markdown",
   "metadata": {},
   "source": [
    "## Partikkel i endelige brønnpotensialer\n",
    "\n",
    "Et tredje velkjent eksempel er enkeltbrønnen\n",
    "$$V(x) = \\begin{cases}\n",
    "-V_0 & \\text{for}\\,\\, 0 < x < w \\\\ \n",
    "0   & \\text{ellers}\n",
    "\\end{cases}$$\n",
    "med bredde $w$ og brønndybde $V_0 > 0$.\n",
    "I dette potensialet finnes ingen analytiske løsninger for de bundne stasjonære tilstandenes energiegenverdier.\n",
    "\n",
    "Enkeltbrønnen kan generaliseres til et potensial bestående av $N_w$ slike enkeltbrønner plassert ved siden av hverandre med en fast avstand $g$ mellom hver brønn.\n",
    "Med første brønn i $x = 0$, kan vi uttrykke det sammensatte brønnpotensialet stykkevis som\n",
    "\n",
    "$$V(x) = \\begin{cases}\n",
    "0    & \\text{for}\\,\\, x < 0 \\,\\, \\text{og} \\,\\, x > N_w (w + g) & \\text{(utenfor brønnområdet)} \\\\\n",
    "-V_0 & \\text{for}\\,\\, \\frac{x}{w+g} - \\left\\lfloor \\frac{x}{w+g} \\right\\rfloor < \\frac{w}{w+g} & \\text{(i brønnene)} \\\\\n",
    "0    & \\text{ellers} & \\text{(mellom brønnene)} \\\\\n",
    "\\end{cases}$$\n",
    "\n",
    "Dette er en enkel modell for det periodiske potensialet som et elektron opplever i et fast stoff med en regulær krystallinsk struktur, for eksempel et metall.\n",
    "\n",
    "**Framstill de bundne tilstandene for et elektron både i en enkeltbrønn og i et sammensatt potensial bestående av mange brønner grafisk. Legg inn et passe stort område med $V = 0$ på begge sider av brønnområdet.**\n",
    "\n",
    "**Hvordan distribueres energinivåene i potensialet bestående av mange brønner sammenlignet med enkeltbrønnen? Kan du ut fra dette forklare hva vi mener med *energibåndstrukturen* til et fast stoff ved hjelp av begrepene *båndbredde* og *båndgap*?**"
   ]
  }
 ],
 "metadata": {
  "kernelspec": {
   "display_name": "Python 3",
   "language": "python",
   "name": "python3"
  },
  "language_info": {
   "codemirror_mode": {
    "name": "ipython",
    "version": 3
   },
   "file_extension": ".py",
   "mimetype": "text/x-python",
   "name": "python",
   "nbconvert_exporter": "python",
   "pygments_lexer": "ipython3",
   "version": "3.8.5"
  }
 },
 "nbformat": 4,
 "nbformat_minor": 4
}
